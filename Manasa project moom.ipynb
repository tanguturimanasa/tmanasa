{
 "cells": [
  {
   "cell_type": "code",
   "execution_count": 45,
   "metadata": {},
   "outputs": [],
   "source": [
    "import pandas as pd\n",
    "import numpy as np\n",
    "import matplotlib.pyplot as plt\n",
    "from sklearn import datasets\n",
    "from sklearn import metrics\n",
    "from sklearn.cluster import KMeans"
   ]
  },
  {
   "cell_type": "code",
   "execution_count": 116,
   "metadata": {},
   "outputs": [],
   "source": [
    "data_ = datasets.make_moons(94)\n"
   ]
  },
  {
   "cell_type": "code",
   "execution_count": 117,
   "metadata": {
    "scrolled": true
   },
   "outputs": [
    {
     "data": {
      "text/plain": [
       "(array([[-5.19583950e-01,  8.54419405e-01],\n",
       "        [-9.17211302e-01,  3.98401090e-01],\n",
       "        [-8.16969893e-01,  5.76680322e-01],\n",
       "        [ 1.99766877e+00,  4.31757587e-01],\n",
       "        [ 3.70827127e-02,  2.30203229e-01],\n",
       "        [ 0.00000000e+00,  5.00000000e-01],\n",
       "        [ 1.88788522e+00,  3.99349623e-02],\n",
       "        [ 6.31087944e-01,  7.75711291e-01],\n",
       "        [ 9.17211302e-01,  3.98401090e-01],\n",
       "        [ 2.69164036e-01, -1.82553143e-01],\n",
       "        [ 1.33487961e+00, -4.42260922e-01],\n",
       "        [-2.69796771e-01,  9.62917287e-01],\n",
       "        [ 4.60065038e-01,  8.87885218e-01],\n",
       "        [ 8.54419405e-01,  5.19583950e-01],\n",
       "        [ 8.87885218e-01,  4.60065038e-01],\n",
       "        [ 2.09159123e-02,  2.96543987e-01],\n",
       "        [-9.62917287e-01,  2.69796771e-01],\n",
       "        [ 1.99068595e+00,  3.63833351e-01],\n",
       "        [ 1.97908409e+00,  2.96543987e-01],\n",
       "        [ 9.31405396e-03,  3.63833351e-01],\n",
       "        [ 5.76680322e-01,  8.16969893e-01],\n",
       "        [ 9.31757587e-01, -4.97668769e-01],\n",
       "        [ 6.01598910e-01, -4.17211302e-01],\n",
       "        [ 9.42260922e-01,  3.34879612e-01],\n",
       "        [ 6.82553143e-01,  7.30835964e-01],\n",
       "        [ 2.33123081e-03,  4.31757587e-01],\n",
       "        [-1.36166649e-01,  9.90685946e-01],\n",
       "        [ 1.83030107e-01, -7.66803221e-02],\n",
       "        [ 5.77390779e-02,  1.65120388e-01],\n",
       "        [ 6.65120388e-01, -4.42260922e-01],\n",
       "        [ 1.46006504e+00, -3.87885218e-01],\n",
       "        [ 1.68255314e+00, -2.30835964e-01],\n",
       "        [-8.54419405e-01,  5.19583950e-01],\n",
       "        [ 3.17446857e-01, -2.30835964e-01],\n",
       "        [ 1.94226092e+00,  1.65120388e-01],\n",
       "        [ 1.26979677e+00, -4.62917287e-01],\n",
       "        [ 3.34879612e-01,  9.42260922e-01],\n",
       "        [-4.60065038e-01,  8.87885218e-01],\n",
       "        [ 1.73083596e+00, -1.82553143e-01],\n",
       "        [ 1.00000000e+00, -5.00000000e-01],\n",
       "        [ 2.00000000e+00,  5.00000000e-01],\n",
       "        [ 1.91721130e+00,  1.01598910e-01],\n",
       "        [ 1.00000000e+00,  0.00000000e+00],\n",
       "        [-3.98401090e-01,  9.17211302e-01],\n",
       "        [ 2.69796771e-01,  9.62917287e-01],\n",
       "        [-9.97668769e-01,  6.82424134e-02],\n",
       "        [ 1.77571129e+00, -1.31087944e-01],\n",
       "        [-7.30835964e-01,  6.82553143e-01],\n",
       "        [ 4.23319678e-01, -3.16969893e-01],\n",
       "        [-9.79084088e-01,  2.03456013e-01],\n",
       "        [ 9.79084088e-01,  2.03456013e-01],\n",
       "        [ 1.63108794e+00, -2.75711291e-01],\n",
       "        [ 7.30835964e-01,  6.82553143e-01],\n",
       "        [ 7.30203229e-01, -4.62917287e-01],\n",
       "        [-3.34879612e-01,  9.42260922e-01],\n",
       "        [ 1.85441940e+00, -1.95839500e-02],\n",
       "        [ 4.80416050e-01, -3.54419405e-01],\n",
       "        [-1.00000000e+00,  1.22464680e-16],\n",
       "        [-9.90685946e-01,  1.36166649e-01],\n",
       "        [-8.87885218e-01,  4.60065038e-01],\n",
       "        [-7.75711291e-01,  6.31087944e-01],\n",
       "        [ 2.03456013e-01,  9.79084088e-01],\n",
       "        [ 1.39840109e+00, -4.17211302e-01],\n",
       "        [ 1.81696989e+00, -7.66803221e-02],\n",
       "        [ 1.12114782e-01,  3.99349623e-02],\n",
       "        [-6.82424134e-02,  9.97668769e-01],\n",
       "        [ 1.13616665e+00, -4.90685946e-01],\n",
       "        [ 1.57668032e+00, -3.16969893e-01],\n",
       "        [ 1.45580595e-01, -1.95839500e-02],\n",
       "        [ 5.19583950e-01,  8.54419405e-01],\n",
       "        [ 1.06824241e+00, -4.97668769e-01],\n",
       "        [-5.76680322e-01,  8.16969893e-01],\n",
       "        [ 7.96543987e-01, -4.79084088e-01],\n",
       "        [ 3.68912056e-01, -2.75711291e-01],\n",
       "        [ 6.82424134e-02,  9.97668769e-01],\n",
       "        [ 1.36166649e-01,  9.90685946e-01],\n",
       "        [-9.42260922e-01,  3.34879612e-01],\n",
       "        [ 6.12323400e-17,  1.00000000e+00],\n",
       "        [ 9.97668769e-01,  6.82424134e-02],\n",
       "        [ 8.27886985e-02,  1.01598910e-01],\n",
       "        [ 8.63833351e-01, -4.90685946e-01],\n",
       "        [ 5.39934962e-01, -3.87885218e-01],\n",
       "        [ 1.51958395e+00, -3.54419405e-01],\n",
       "        [ 1.96291729e+00,  2.30203229e-01],\n",
       "        [ 7.75711291e-01,  6.31087944e-01],\n",
       "        [-6.82553143e-01,  7.30835964e-01],\n",
       "        [ 9.62917287e-01,  2.69796771e-01],\n",
       "        [-6.31087944e-01,  7.75711291e-01],\n",
       "        [ 8.16969893e-01,  5.76680322e-01],\n",
       "        [ 2.24288709e-01, -1.31087944e-01],\n",
       "        [ 1.20345601e+00, -4.79084088e-01],\n",
       "        [ 9.90685946e-01,  1.36166649e-01],\n",
       "        [ 3.98401090e-01,  9.17211302e-01],\n",
       "        [-2.03456013e-01,  9.79084088e-01]]),\n",
       " array([0, 0, 0, 1, 1, 1, 1, 0, 0, 1, 1, 0, 0, 0, 0, 1, 0, 1, 1, 1, 0, 1,\n",
       "        1, 0, 0, 1, 0, 1, 1, 1, 1, 1, 0, 1, 1, 1, 0, 0, 1, 1, 1, 1, 0, 0,\n",
       "        0, 0, 1, 0, 1, 0, 0, 1, 0, 1, 0, 1, 1, 0, 0, 0, 0, 0, 1, 1, 1, 0,\n",
       "        1, 1, 1, 0, 1, 0, 1, 1, 0, 0, 0, 0, 0, 1, 1, 1, 1, 1, 0, 0, 0, 0,\n",
       "        0, 1, 1, 0, 0, 0], dtype=int64))"
      ]
     },
     "execution_count": 117,
     "metadata": {},
     "output_type": "execute_result"
    }
   ],
   "source": [
    "data_"
   ]
  },
  {
   "cell_type": "code",
   "execution_count": 118,
   "metadata": {},
   "outputs": [],
   "source": [
    "inputData = pd.DataFrame(data = data_[0])"
   ]
  },
  {
   "cell_type": "code",
   "execution_count": 119,
   "metadata": {},
   "outputs": [
    {
     "data": {
      "text/html": [
       "<div>\n",
       "<style scoped>\n",
       "    .dataframe tbody tr th:only-of-type {\n",
       "        vertical-align: middle;\n",
       "    }\n",
       "\n",
       "    .dataframe tbody tr th {\n",
       "        vertical-align: top;\n",
       "    }\n",
       "\n",
       "    .dataframe thead th {\n",
       "        text-align: right;\n",
       "    }\n",
       "</style>\n",
       "<table border=\"1\" class=\"dataframe\">\n",
       "  <thead>\n",
       "    <tr style=\"text-align: right;\">\n",
       "      <th></th>\n",
       "      <th>0</th>\n",
       "      <th>1</th>\n",
       "    </tr>\n",
       "  </thead>\n",
       "  <tbody>\n",
       "    <tr>\n",
       "      <th>0</th>\n",
       "      <td>-0.519584</td>\n",
       "      <td>0.854419</td>\n",
       "    </tr>\n",
       "    <tr>\n",
       "      <th>1</th>\n",
       "      <td>-0.917211</td>\n",
       "      <td>0.398401</td>\n",
       "    </tr>\n",
       "    <tr>\n",
       "      <th>2</th>\n",
       "      <td>-0.816970</td>\n",
       "      <td>0.576680</td>\n",
       "    </tr>\n",
       "    <tr>\n",
       "      <th>3</th>\n",
       "      <td>1.997669</td>\n",
       "      <td>0.431758</td>\n",
       "    </tr>\n",
       "    <tr>\n",
       "      <th>4</th>\n",
       "      <td>0.037083</td>\n",
       "      <td>0.230203</td>\n",
       "    </tr>\n",
       "  </tbody>\n",
       "</table>\n",
       "</div>"
      ],
      "text/plain": [
       "          0         1\n",
       "0 -0.519584  0.854419\n",
       "1 -0.917211  0.398401\n",
       "2 -0.816970  0.576680\n",
       "3  1.997669  0.431758\n",
       "4  0.037083  0.230203"
      ]
     },
     "execution_count": 119,
     "metadata": {},
     "output_type": "execute_result"
    }
   ],
   "source": [
    "inputData.head()"
   ]
  },
  {
   "cell_type": "code",
   "execution_count": 120,
   "metadata": {},
   "outputs": [
    {
     "data": {
      "text/plain": [
       "<matplotlib.collections.PathCollection at 0x1a2dec20ca0>"
      ]
     },
     "execution_count": 120,
     "metadata": {},
     "output_type": "execute_result"
    },
    {
     "data": {
      "image/png": "[encoded data removed]",
      "text/plain": [
       "<Figure size 432x288 with 1 Axes>"
      ]
     },
     "metadata": {
      "needs_background": "light"
     },
     "output_type": "display_data"
    }
   ],
   "source": [
    "plt.scatter(inputData[0], inputData[1])\n"
   ]
  },
  {
   "cell_type": "code",
   "execution_count": 121,
   "metadata": {},
   "outputs": [],
   "source": [
    "outputData1 = pd.DataFrame(data = data_[1])\n"
   ]
  },
  {
   "cell_type": "code",
   "execution_count": 122,
   "metadata": {},
   "outputs": [
    {
     "data": {
      "text/html": [
       "<div>\n",
       "<style scoped>\n",
       "    .dataframe tbody tr th:only-of-type {\n",
       "        vertical-align: middle;\n",
       "    }\n",
       "\n",
       "    .dataframe tbody tr th {\n",
       "        vertical-align: top;\n",
       "    }\n",
       "\n",
       "    .dataframe thead th {\n",
       "        text-align: right;\n",
       "    }\n",
       "</style>\n",
       "<table border=\"1\" class=\"dataframe\">\n",
       "  <thead>\n",
       "    <tr style=\"text-align: right;\">\n",
       "      <th></th>\n",
       "      <th>0</th>\n",
       "    </tr>\n",
       "  </thead>\n",
       "  <tbody>\n",
       "    <tr>\n",
       "      <th>0</th>\n",
       "      <td>0</td>\n",
       "    </tr>\n",
       "    <tr>\n",
       "      <th>1</th>\n",
       "      <td>0</td>\n",
       "    </tr>\n",
       "    <tr>\n",
       "      <th>2</th>\n",
       "      <td>0</td>\n",
       "    </tr>\n",
       "    <tr>\n",
       "      <th>3</th>\n",
       "      <td>1</td>\n",
       "    </tr>\n",
       "    <tr>\n",
       "      <th>4</th>\n",
       "      <td>1</td>\n",
       "    </tr>\n",
       "  </tbody>\n",
       "</table>\n",
       "</div>"
      ],
      "text/plain": [
       "   0\n",
       "0  0\n",
       "1  0\n",
       "2  0\n",
       "3  1\n",
       "4  1"
      ]
     },
     "execution_count": 122,
     "metadata": {},
     "output_type": "execute_result"
    }
   ],
   "source": [
    "outputData1.head()"
   ]
  },
  {
   "cell_type": "code",
   "execution_count": 123,
   "metadata": {},
   "outputs": [
    {
     "data": {
      "text/plain": [
       "<matplotlib.collections.PathCollection at 0x1a2dec83400>"
      ]
     },
     "execution_count": 123,
     "metadata": {},
     "output_type": "execute_result"
    },
    {
     "data": {
      "image/png": "[encoded data removed]",
      "text/plain": [
       "<Figure size 432x288 with 1 Axes>"
      ]
     },
     "metadata": {
      "needs_background": "light"
     },
     "output_type": "display_data"
    }
   ],
   "source": [
    "plt.scatter(inputData[0], inputData[1], c = outputData1)"
   ]
  },
  {
   "cell_type": "code",
   "execution_count": 124,
   "metadata": {},
   "outputs": [
    {
     "data": {
      "text/plain": [
       "KMeans(n_clusters=5)"
      ]
     },
     "execution_count": 124,
     "metadata": {},
     "output_type": "execute_result"
    }
   ],
   "source": [
    "\n",
    "\n",
    "\n",
    "model = KMeans(n_clusters=5)\n",
    "model.fit(inputData)"
   ]
  },
  {
   "cell_type": "code",
   "execution_count": 125,
   "metadata": {},
   "outputs": [
    {
     "data": {
      "text/plain": [
       "array([0, 0, 0, 3, 2, 2, 3, 4, 4, 1, 3, 2, 2, 4, 4, 2, 0, 3, 3, 2, 4, 1,\n",
       "       1, 4, 4, 2, 2, 1, 2, 1, 3, 3, 0, 1, 3, 3, 2, 2, 3, 1, 3, 3, 4, 2,\n",
       "       2, 0, 3, 0, 1, 0, 4, 3, 4, 1, 2, 3, 1, 0, 0, 0, 0, 2, 3, 3, 1, 2,\n",
       "       1, 3, 1, 2, 1, 0, 1, 1, 2, 2, 0, 2, 4, 1, 1, 1, 3, 3, 4, 0, 4, 0,\n",
       "       4, 1, 3, 4, 2, 2])"
      ]
     },
     "execution_count": 125,
     "metadata": {},
     "output_type": "execute_result"
    }
   ],
   "source": [
    "model.labels_"
   ]
  },
  {
   "cell_type": "code",
   "execution_count": 126,
   "metadata": {},
   "outputs": [
    {
     "data": {
      "text/plain": [
       "0.4712143606352564"
      ]
     },
     "execution_count": 126,
     "metadata": {},
     "output_type": "execute_result"
    }
   ],
   "source": [
    "metrics.silhouette_score(inputData, model.labels_)"
   ]
  },
  {
   "cell_type": "code",
   "execution_count": 127,
   "metadata": {},
   "outputs": [
    {
     "data": {
      "text/plain": [
       "<matplotlib.collections.PathCollection at 0x1a2decd9bb0>"
      ]
     },
     "execution_count": 127,
     "metadata": {},
     "output_type": "execute_result"
    },
    {
     "data": {
      "image/png": "[encoded data removed]",
      "text/plain": [
       "<Figure size 432x288 with 1 Axes>"
      ]
     },
     "metadata": {
      "needs_background": "light"
     },
     "output_type": "display_data"
    }
   ],
   "source": [
    "plt.scatter(inputData[0], inputData[1], c = model.labels_)"
   ]
  },
  {
   "cell_type": "code",
   "execution_count": 128,
   "metadata": {},
   "outputs": [],
   "source": [
    "\n",
    "cluster_range = range(1, 20)\n",
    "error_list = []\n",
    "\n",
    "for i in cluster_range:\n",
    "    model = KMeans(n_clusters=i)\n",
    "    model.fit(inputData)\n",
    "    res = model.inertia_\n",
    "    error_list.append(res)"
   ]
  },
  {
   "cell_type": "code",
   "execution_count": 129,
   "metadata": {},
   "outputs": [
    {
     "data": {
      "image/png": "[encoded data removed]",
      "text/plain": [
       "<Figure size 432x288 with 1 Axes>"
      ]
     },
     "metadata": {
      "needs_background": "light"
     },
     "output_type": "display_data"
    }
   ],
   "source": [
    "import matplotlib.pyplot as plt\n",
    "\n",
    "plt.plot(cluster_range, error_list, marker = \"o\", color = \"g\", markersize = 10)\n",
    "plt.xlabel(\"Cluster Range\")\n",
    "plt.ylabel(\"IntraCluster Sum\")\n",
    "plt.title(\"KMeans\")\n",
    "plt.show()"
   ]
  },
  {
   "cell_type": "code",
   "execution_count": null,
   "metadata": {},
   "outputs": [],
   "source": []
  },
  {
   "cell_type": "code",
   "execution_count": null,
   "metadata": {},
   "outputs": [],
   "source": []
  }
 ],
 "metadata": {
  "kernelspec": {
   "display_name": "Python 3",
   "language": "python",
   "name": "python3"
  },
  "language_info": {
   "codemirror_mode": {
    "name": "ipython",
    "version": 3
   },
   "file_extension": ".py",
   "mimetype": "text/x-python",
   "name": "python",
   "nbconvert_exporter": "python",
   "pygments_lexer": "ipython3",
   "version": "3.8.5"
  }
 },
 "nbformat": 4,
 "nbformat_minor": 4
}
